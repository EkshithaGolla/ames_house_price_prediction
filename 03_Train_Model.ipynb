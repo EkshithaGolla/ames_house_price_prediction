{
  "nbformat": 4,
  "nbformat_minor": 0,
  "metadata": {
    "colab": {
      "name": "03_Train_Model.ipynb",
      "provenance": [],
      "collapsed_sections": []
    },
    "kernelspec": {
      "display_name": "Python 3",
      "name": "python3"
    },
    "language_info": {
      "name": "python"
    }
  },
  "cells": [
    {
      "cell_type": "markdown",
      "metadata": {
        "id": "dA2qrZn3hCx6"
      },
      "source": [
        "## Importing libraries"
      ]
    },
    {
      "cell_type": "code",
      "metadata": {
        "id": "LT9HFjPWCfux"
      },
      "source": [
        "import pandas as pd\n",
        "import numpy as np\n",
        "from numpy import mean\n",
        "from numpy import std\n",
        "from sklearn.datasets import make_regression\n",
        "from sklearn.model_selection import cross_val_score\n",
        "from sklearn.model_selection import RepeatedKFold\n",
        "from sklearn import linear_model\n",
        "from sklearn.linear_model import LinearRegression, Ridge, BayesianRidge\n",
        "from sklearn.svm import SVR\n",
        "from scipy.stats import randint\n",
        "import lightgbm as ltb\n",
        "from sklearn.ensemble import StackingRegressor\n",
        "\n",
        "from xgboost import XGBRegressor\n",
        "from sklearn.model_selection import GridSearchCV, RandomizedSearchCV"
      ],
      "execution_count": 1,
      "outputs": []
    },
    {
      "cell_type": "markdown",
      "metadata": {
        "id": "TeyoCDOohFIY"
      },
      "source": [
        "## Loading data"
      ]
    },
    {
      "cell_type": "code",
      "metadata": {
        "id": "_DfaZTnxI8Cv"
      },
      "source": [
        "X_train = pd.read_pickle('/content/drive/MyDrive/Project/X_train.pkl')\n",
        "y_train = pd.read_pickle('/content/drive/MyDrive/Project/y_train.pkl')\n",
        "X_test = pd.read_pickle('/content/drive/MyDrive/Project/X_test.pkl')\n",
        "test_ids = pd.read_pickle('/content/drive/MyDrive/Project/test_ids.pkl')"
      ],
      "execution_count": 2,
      "outputs": []
    },
    {
      "cell_type": "markdown",
      "metadata": {
        "id": "j6zk88QghHQt"
      },
      "source": [
        "## Training models"
      ]
    },
    {
      "cell_type": "code",
      "metadata": {
        "id": "zbB4fi5FIcom"
      },
      "source": [
        "# function to find the best params\n",
        "def tune_hyperparameters(training_data, training_targets, model, param_grid):\n",
        "\n",
        "  random_search = RandomizedSearchCV(\n",
        "      model,\n",
        "      param_distributions=param_grid,\n",
        "      scoring='neg_mean_squared_error',\n",
        "      n_jobs=-1,\n",
        "      n_iter=20,\n",
        "      cv=10)\n",
        "\n",
        "  random_search.fit(np.array(training_data), np.array(training_targets))\n",
        "  print('Best hyperparameters for', model, 'are:')\n",
        "  print(random_search.best_params_)\n",
        "  print('\\n')\n",
        "  return random_search.best_params_"
      ],
      "execution_count": 3,
      "outputs": []
    },
    {
      "cell_type": "code",
      "metadata": {
        "colab": {
          "base_uri": "https://localhost:8080/"
        },
        "id": "fXtF-7tOIdQZ",
        "outputId": "5a31167a-4b7b-44e1-b24a-50e192eff75d"
      },
      "source": [
        "# hyper-parameter tuning for XGBRegressor\n",
        "param_xgboost = {'learning_rate':[0.01, 0.05, 0.1, 0.5, 1],\n",
        "                 'n_estimators': np.arange(100,1000,10),\n",
        "                 'iterations': np.arange(100,1000,100),\n",
        "                 'max_depth': np.arange(1,100,10),}\n",
        "\n",
        "xgboost_best_params = tune_hyperparameters(X_train, y_train, XGBRegressor(), param_xgboost)"
      ],
      "execution_count": 4,
      "outputs": [
        {
          "output_type": "stream",
          "name": "stdout",
          "text": [
            "[09:41:44] WARNING: /workspace/src/objective/regression_obj.cu:152: reg:linear is now deprecated in favor of reg:squarederror.\n",
            "Best hyperparameters for XGBRegressor(base_score=0.5, booster='gbtree', colsample_bylevel=1,\n",
            "             colsample_bynode=1, colsample_bytree=1, gamma=0,\n",
            "             importance_type='gain', learning_rate=0.1, max_delta_step=0,\n",
            "             max_depth=3, min_child_weight=1, missing=None, n_estimators=100,\n",
            "             n_jobs=1, nthread=None, objective='reg:linear', random_state=0,\n",
            "             reg_alpha=0, reg_lambda=1, scale_pos_weight=1, seed=None,\n",
            "             silent=None, subsample=1, verbosity=1) are:\n",
            "{'n_estimators': 450, 'max_depth': 41, 'learning_rate': 0.05, 'iterations': 600}\n",
            "\n",
            "\n"
          ]
        }
      ]
    },
    {
      "cell_type": "code",
      "metadata": {
        "colab": {
          "base_uri": "https://localhost:8080/"
        },
        "id": "E1AFWXB1Ifp_",
        "outputId": "04b79cdd-4c0e-4432-c6ba-4e55b7d140a2"
      },
      "source": [
        "# hyper-parameter tuning for LGBMRegressor\n",
        "params_LGBM = {'reg_lambda': [0.01, 0.05, 0.1, 0.2, 0.5, 1, 2],\n",
        "                     'reg_alpha': [0.01, 0.05, 0.1, 0.2, 0.5, 1, 2],\n",
        "                     'min_child_samples': randint(1, 100),\n",
        "                     'subsample': [x / 10 for x in range(1, 10, 1)], # bagging_fraction\n",
        "                     'subsample_freq': randint(1, 200), # bagging_freq\n",
        "                     'num_leaves': randint(1, 200),\n",
        "                     'max_depth': list(range(1, 15, 1)),\n",
        "                     'max_bin': randint(1, 700),\n",
        "                     'learning_rate': [x / 200 for x in range(1, 10, 1)],\n",
        "                     'colsample_bytree': [x / 10 for x in range(1, 11, 1)]} # feature_fraction \n",
        "                        \n",
        "                    \n",
        "LGBM_best_params = tune_hyperparameters(X_train, y_train, ltb.LGBMRegressor(), params_LGBM)"
      ],
      "execution_count": 5,
      "outputs": [
        {
          "output_type": "stream",
          "name": "stdout",
          "text": [
            "Best hyperparameters for LGBMRegressor(boosting_type='gbdt', class_weight=None, colsample_bytree=1.0,\n",
            "              importance_type='split', learning_rate=0.1, max_depth=-1,\n",
            "              min_child_samples=20, min_child_weight=0.001, min_split_gain=0.0,\n",
            "              n_estimators=100, n_jobs=-1, num_leaves=31, objective=None,\n",
            "              random_state=None, reg_alpha=0.0, reg_lambda=0.0, silent=True,\n",
            "              subsample=1.0, subsample_for_bin=200000, subsample_freq=0) are:\n",
            "{'colsample_bytree': 0.3, 'learning_rate': 0.04, 'max_bin': 222, 'max_depth': 11, 'min_child_samples': 1, 'num_leaves': 25, 'reg_alpha': 0.5, 'reg_lambda': 0.05, 'subsample': 0.7, 'subsample_freq': 173}\n",
            "\n",
            "\n"
          ]
        }
      ]
    },
    {
      "cell_type": "code",
      "metadata": {
        "colab": {
          "base_uri": "https://localhost:8080/"
        },
        "id": "-vRsvD_IIjTi",
        "outputId": "ca181486-c9b3-47da-f138-ea4d9a7ae752"
      },
      "source": [
        "# hyper-parameter tuning for SVR\n",
        "params_svr = {'kernel' : ['rbf'],\n",
        "              'C' : list(range(1, 100, 1)),\n",
        "              'epsilon' : [x / 2000 for x in range(1, 50, 1)],\n",
        "              'gamma' : [x / 10000 for x in range(1, 50, 1)]}\n",
        "\n",
        "\n",
        "svr_best_params = tune_hyperparameters(X_train, y_train, SVR(), params_svr)"
      ],
      "execution_count": 6,
      "outputs": [
        {
          "output_type": "stream",
          "name": "stdout",
          "text": [
            "Best hyperparameters for SVR(C=1.0, cache_size=200, coef0=0.0, degree=3, epsilon=0.1, gamma='scale',\n",
            "    kernel='rbf', max_iter=-1, shrinking=True, tol=0.001, verbose=False) are:\n",
            "{'kernel': 'rbf', 'gamma': 0.0003, 'epsilon': 0.0175, 'C': 6}\n",
            "\n",
            "\n"
          ]
        }
      ]
    },
    {
      "cell_type": "code",
      "metadata": {
        "colab": {
          "base_uri": "https://localhost:8080/"
        },
        "id": "CqKzOcs7Ist1",
        "outputId": "1ab9b746-bfb2-456f-dde9-b029ad9d095a"
      },
      "source": [
        "# hyper-parameter tuning for Lasso\n",
        "Lasso_model = linear_model.Lasso()\n",
        "\n",
        "params_lasso = {'alpha': [x / 25000 for x in range(1, 50, 1)],\n",
        "          'tol': [0.0000001], \n",
        "          'max_iter': [3000]}\n",
        "\n",
        "lasso_best_params = tune_hyperparameters(X_train, y_train, linear_model.Lasso(), params_lasso)"
      ],
      "execution_count": 7,
      "outputs": [
        {
          "output_type": "stream",
          "name": "stdout",
          "text": [
            "Best hyperparameters for Lasso(alpha=1.0, copy_X=True, fit_intercept=True, max_iter=1000,\n",
            "      normalize=False, positive=False, precompute=False, random_state=None,\n",
            "      selection='cyclic', tol=0.0001, warm_start=False) are:\n",
            "{'tol': 1e-07, 'max_iter': 3000, 'alpha': 0.00064}\n",
            "\n",
            "\n"
          ]
        }
      ]
    },
    {
      "cell_type": "code",
      "metadata": {
        "colab": {
          "base_uri": "https://localhost:8080/"
        },
        "id": "gKpVW0w0IyRR",
        "outputId": "fa44b909-c69f-47d8-8e26-19a485b66fa2"
      },
      "source": [
        "# hyper-parameter tuning for ElasticNet\n",
        "params_elasticNet = {'alpha': [x / 25000 for x in range(1, 25, 1)],\n",
        "             'l1_ratio': [x / 100 for x in range(10, 100, 1)],\n",
        "             'tol': [0.000001], \n",
        "             'max_iter': [4000]}\n",
        "elasticNet_best_params = tune_hyperparameters(X_train, y_train, linear_model.ElasticNet(), params_elasticNet)\n"
      ],
      "execution_count": 8,
      "outputs": [
        {
          "output_type": "stream",
          "name": "stdout",
          "text": [
            "Best hyperparameters for ElasticNet(alpha=1.0, copy_X=True, fit_intercept=True, l1_ratio=0.5,\n",
            "           max_iter=1000, normalize=False, positive=False, precompute=False,\n",
            "           random_state=None, selection='cyclic', tol=0.0001, warm_start=False) are:\n",
            "{'tol': 1e-06, 'max_iter': 4000, 'l1_ratio': 0.38, 'alpha': 0.00088}\n",
            "\n",
            "\n"
          ]
        }
      ]
    },
    {
      "cell_type": "code",
      "metadata": {
        "colab": {
          "base_uri": "https://localhost:8080/"
        },
        "id": "_pWq8VKFIzxp",
        "outputId": "575fdf18-23dc-4503-da09-4b6a24ad2e08"
      },
      "source": [
        "# hyper-parameter tuning for BayesianRidge\n",
        "params_br = {\n",
        "    'alpha_1':np.arange(1, 1e5, 10),\n",
        "    'alpha_2':np.arange(1, 1e5, 10),\n",
        "    'lambda_1':np.arange(1, 1e5, 10),\n",
        "    'lambda_2':np.arange(1, 1e5, 10)\n",
        "}\n",
        "\n",
        "br_best_params = tune_hyperparameters(X_train, y_train, BayesianRidge(), params_br)"
      ],
      "execution_count": 9,
      "outputs": [
        {
          "output_type": "stream",
          "name": "stdout",
          "text": [
            "Best hyperparameters for BayesianRidge(alpha_1=1e-06, alpha_2=1e-06, alpha_init=None,\n",
            "              compute_score=False, copy_X=True, fit_intercept=True,\n",
            "              lambda_1=1e-06, lambda_2=1e-06, lambda_init=None, n_iter=300,\n",
            "              normalize=False, tol=0.001, verbose=False) are:\n",
            "{'lambda_2': 8601.0, 'lambda_1': 31471.0, 'alpha_2': 62851.0, 'alpha_1': 37461.0}\n",
            "\n",
            "\n"
          ]
        }
      ]
    },
    {
      "cell_type": "code",
      "metadata": {
        "colab": {
          "base_uri": "https://localhost:8080/"
        },
        "id": "sjACSFg0I571",
        "outputId": "cff9077f-4453-4cd4-89a8-1a03c802976d"
      },
      "source": [
        "# define the base models\n",
        "level0 = list()\n",
        "level0.append(('lasso', linear_model.Lasso(**lasso_best_params)))\n",
        "level0.append(('elasticNet', linear_model.ElasticNet(**elasticNet_best_params)))\n",
        "level0.append(('xg_boost', XGBRegressor(**xgboost_best_params)))\n",
        "level0.append(('lgbm', ltb.LGBMRegressor(**LGBM_best_params)))\n",
        "level0.append(('svm', SVR(**svr_best_params)))\n",
        "level0.append(('br', BayesianRidge(**br_best_params)))\n",
        "\n",
        "# define meta learner model\n",
        "level1 = linear_model.Lasso(**lasso_best_params)\n",
        "# define the stacking ensemble\n",
        "model = StackingRegressor(estimators=level0, final_estimator=level1, cv=5)\n",
        "# fit the model on all available data\n",
        "model.fit(X_train, y_train)\n",
        "# make a prediction for one example\n",
        "yhat = model.predict(X_test)\n"
      ],
      "execution_count": 10,
      "outputs": [
        {
          "output_type": "stream",
          "name": "stdout",
          "text": [
            "[09:45:32] WARNING: /workspace/src/objective/regression_obj.cu:152: reg:linear is now deprecated in favor of reg:squarederror.\n",
            "[09:45:53] WARNING: /workspace/src/objective/regression_obj.cu:152: reg:linear is now deprecated in favor of reg:squarederror.\n",
            "[09:46:06] WARNING: /workspace/src/objective/regression_obj.cu:152: reg:linear is now deprecated in favor of reg:squarederror.\n",
            "[09:46:18] WARNING: /workspace/src/objective/regression_obj.cu:152: reg:linear is now deprecated in favor of reg:squarederror.\n",
            "[09:46:31] WARNING: /workspace/src/objective/regression_obj.cu:152: reg:linear is now deprecated in favor of reg:squarederror.\n",
            "[09:46:44] WARNING: /workspace/src/objective/regression_obj.cu:152: reg:linear is now deprecated in favor of reg:squarederror.\n"
          ]
        }
      ]
    },
    {
      "cell_type": "code",
      "metadata": {
        "colab": {
          "base_uri": "https://localhost:8080/",
          "height": 17
        },
        "id": "eWe-Bb5zI-Cj",
        "outputId": "0bb4882a-b37e-4016-c2a5-7343f6ae64ba"
      },
      "source": [
        "# predicting on test data\n",
        "predictions = pd.concat([test_ids, pd.Series(np.expm1(yhat), name='SalePrice')], axis=1)\n",
        "predictions.to_csv('submission.csv', index = False)\n",
        "from google.colab import files\n",
        "files.download(\"submission.csv\")"
      ],
      "execution_count": 11,
      "outputs": [
        {
          "output_type": "display_data",
          "data": {
            "application/javascript": [
              "\n",
              "    async function download(id, filename, size) {\n",
              "      if (!google.colab.kernel.accessAllowed) {\n",
              "        return;\n",
              "      }\n",
              "      const div = document.createElement('div');\n",
              "      const label = document.createElement('label');\n",
              "      label.textContent = `Downloading \"${filename}\": `;\n",
              "      div.appendChild(label);\n",
              "      const progress = document.createElement('progress');\n",
              "      progress.max = size;\n",
              "      div.appendChild(progress);\n",
              "      document.body.appendChild(div);\n",
              "\n",
              "      const buffers = [];\n",
              "      let downloaded = 0;\n",
              "\n",
              "      const channel = await google.colab.kernel.comms.open(id);\n",
              "      // Send a message to notify the kernel that we're ready.\n",
              "      channel.send({})\n",
              "\n",
              "      for await (const message of channel.messages) {\n",
              "        // Send a message to notify the kernel that we're ready.\n",
              "        channel.send({})\n",
              "        if (message.buffers) {\n",
              "          for (const buffer of message.buffers) {\n",
              "            buffers.push(buffer);\n",
              "            downloaded += buffer.byteLength;\n",
              "            progress.value = downloaded;\n",
              "          }\n",
              "        }\n",
              "      }\n",
              "      const blob = new Blob(buffers, {type: 'application/binary'});\n",
              "      const a = document.createElement('a');\n",
              "      a.href = window.URL.createObjectURL(blob);\n",
              "      a.download = filename;\n",
              "      div.appendChild(a);\n",
              "      a.click();\n",
              "      div.remove();\n",
              "    }\n",
              "  "
            ],
            "text/plain": [
              "<IPython.core.display.Javascript object>"
            ]
          },
          "metadata": {}
        },
        {
          "output_type": "display_data",
          "data": {
            "application/javascript": [
              "download(\"download_4a44bceb-f521-48b2-9c86-434a5aad1376\", \"submission.csv\", 34425)"
            ],
            "text/plain": [
              "<IPython.core.display.Javascript object>"
            ]
          },
          "metadata": {}
        }
      ]
    }
  ]
}