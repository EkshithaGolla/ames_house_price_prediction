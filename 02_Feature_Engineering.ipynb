{
  "nbformat": 4,
  "nbformat_minor": 0,
  "metadata": {
    "colab": {
      "name": "02_Feature_Engineering.ipynb",
      "provenance": [],
      "collapsed_sections": []
    },
    "kernelspec": {
      "name": "python3",
      "display_name": "Python 3"
    },
    "language_info": {
      "name": "python"
    }
  },
  "cells": [
    {
      "cell_type": "markdown",
      "metadata": {
        "id": "QVEoq_jS8V3J"
      },
      "source": [
        "## Importing Libraries"
      ]
    },
    {
      "cell_type": "code",
      "metadata": {
        "id": "uih9whAd8Y3n"
      },
      "source": [
        "import pandas as pd\n",
        "import numpy as np\n",
        "import seaborn as sns\n",
        "\n",
        "import scipy\n",
        "from scipy.special import boxcox1p\n",
        "from scipy.stats import boxcox_normmax\n",
        "\n",
        "import matplotlib.pyplot as plt\n",
        "\n",
        "% matplotlib inline"
      ],
      "execution_count": null,
      "outputs": []
    },
    {
      "cell_type": "markdown",
      "metadata": {
        "id": "mr57FVOu8cQh"
      },
      "source": [
        "## Reading data"
      ]
    },
    {
      "cell_type": "code",
      "metadata": {
        "id": "ISYvG1C68ZQW"
      },
      "source": [
        "train_df = pd.read_pickle('/content/drive/MyDrive/Project/train_preprocessed.pkl')\n",
        "test_df = pd.read_pickle('/content/drive/MyDrive/Project/test_preprocessed.pkl')"
      ],
      "execution_count": null,
      "outputs": []
    },
    {
      "cell_type": "markdown",
      "metadata": {
        "id": "wRQ5o2rm8178"
      },
      "source": [
        "## Understanding data"
      ]
    },
    {
      "cell_type": "code",
      "metadata": {
        "id": "cIO2P_UB8iyI"
      },
      "source": [
        "columns, train_label_length, test_label_length = [], [], []\n",
        "for col in train_df.columns:\n",
        "  if(train_df[col].dtype == 'object'):\n",
        "    columns.append(col)\n",
        "    train_label_length.append(len(train_df[col].unique()))\n",
        "    test_label_length.append(len(test_df[col].unique()))\n",
        "data = {'Column name': columns, 'Train label length': train_label_length, 'Test label length': test_label_length}\n",
        "df = pd.DataFrame(data=data).sort_values(by=['Train label length'], ascending=False)"
      ],
      "execution_count": null,
      "outputs": []
    },
    {
      "cell_type": "code",
      "metadata": {
        "colab": {
          "base_uri": "https://localhost:8080/",
          "height": 206
        },
        "id": "TGvMH6e983LV",
        "outputId": "2c0486e5-fb53-4401-aa05-94fe8fbb9412"
      },
      "source": [
        "df[df['Train label length'] < df['Test label length']]"
      ],
      "execution_count": null,
      "outputs": [
        {
          "output_type": "execute_result",
          "data": {
            "text/html": [
              "<div>\n",
              "<style scoped>\n",
              "    .dataframe tbody tr th:only-of-type {\n",
              "        vertical-align: middle;\n",
              "    }\n",
              "\n",
              "    .dataframe tbody tr th {\n",
              "        vertical-align: top;\n",
              "    }\n",
              "\n",
              "    .dataframe thead th {\n",
              "        text-align: right;\n",
              "    }\n",
              "</style>\n",
              "<table border=\"1\" class=\"dataframe\">\n",
              "  <thead>\n",
              "    <tr style=\"text-align: right;\">\n",
              "      <th></th>\n",
              "      <th>Column name</th>\n",
              "      <th>Train label length</th>\n",
              "      <th>Test label length</th>\n",
              "    </tr>\n",
              "  </thead>\n",
              "  <tbody>\n",
              "    <tr>\n",
              "      <th>0</th>\n",
              "      <td>MSSubClass</td>\n",
              "      <td>15</td>\n",
              "      <td>16</td>\n",
              "    </tr>\n",
              "    <tr>\n",
              "      <th>49</th>\n",
              "      <td>GarageCars</td>\n",
              "      <td>5</td>\n",
              "      <td>6</td>\n",
              "    </tr>\n",
              "    <tr>\n",
              "      <th>60</th>\n",
              "      <td>Bathrooms</td>\n",
              "      <td>5</td>\n",
              "      <td>6</td>\n",
              "    </tr>\n",
              "    <tr>\n",
              "      <th>44</th>\n",
              "      <td>Fireplaces</td>\n",
              "      <td>4</td>\n",
              "      <td>5</td>\n",
              "    </tr>\n",
              "    <tr>\n",
              "      <th>37</th>\n",
              "      <td>FullBath</td>\n",
              "      <td>4</td>\n",
              "      <td>5</td>\n",
              "    </tr>\n",
              "  </tbody>\n",
              "</table>\n",
              "</div>"
            ],
            "text/plain": [
              "   Column name  Train label length  Test label length\n",
              "0   MSSubClass                  15                 16\n",
              "49  GarageCars                   5                  6\n",
              "60   Bathrooms                   5                  6\n",
              "44  Fireplaces                   4                  5\n",
              "37    FullBath                   4                  5"
            ]
          },
          "metadata": {},
          "execution_count": 4
        }
      ]
    },
    {
      "cell_type": "markdown",
      "metadata": {
        "id": "SiEx5sCw87hU"
      },
      "source": [
        "We can see that 4 columns have extra labels in test data set, and if we do feature engineering based on train data set it will be a problem as we are ignoring the labels present in test data set. To overcome this issue, we are combing train and test data sets."
      ]
    },
    {
      "cell_type": "markdown",
      "metadata": {
        "id": "orZP4WVx8-Yc"
      },
      "source": [
        "Combining train and test data sets"
      ]
    },
    {
      "cell_type": "code",
      "metadata": {
        "id": "rtdTsloh85I6"
      },
      "source": [
        "# since test dataset does not have target variable, droping the target variable from train data while combining the data sets\n",
        "df_all =  pd.concat([train_df.drop('SalePrice', axis=1), test_df])\n"
      ],
      "execution_count": null,
      "outputs": []
    },
    {
      "cell_type": "code",
      "metadata": {
        "colab": {
          "base_uri": "https://localhost:8080/"
        },
        "id": "thI2ObgY9AZf",
        "outputId": "24088033-930f-4b35-a7a1-ad48981ecf91"
      },
      "source": [
        "df_all.info()"
      ],
      "execution_count": null,
      "outputs": [
        {
          "output_type": "stream",
          "name": "stdout",
          "text": [
            "<class 'pandas.core.frame.DataFrame'>\n",
            "Int64Index: 2919 entries, 0 to 1458\n",
            "Data columns (total 82 columns):\n",
            " #   Column         Non-Null Count  Dtype  \n",
            "---  ------         --------------  -----  \n",
            " 0   MSSubClass     2919 non-null   object \n",
            " 1   MSZoning       2919 non-null   object \n",
            " 2   LotFrontage    2919 non-null   float64\n",
            " 3   LotArea        2919 non-null   int64  \n",
            " 4   Street         2919 non-null   object \n",
            " 5   Alley          2919 non-null   object \n",
            " 6   LotShape       2919 non-null   object \n",
            " 7   LandContour    2919 non-null   object \n",
            " 8   Utilities      2919 non-null   object \n",
            " 9   LotConfig      2919 non-null   object \n",
            " 10  LandSlope      2919 non-null   object \n",
            " 11  Neighborhood   2919 non-null   object \n",
            " 12  Condition1     2919 non-null   object \n",
            " 13  Condition2     2919 non-null   object \n",
            " 14  BldgType       2919 non-null   object \n",
            " 15  HouseStyle     2919 non-null   object \n",
            " 16  OverallQual    2919 non-null   object \n",
            " 17  OverallCond    2919 non-null   object \n",
            " 18  YearBuilt      2919 non-null   object \n",
            " 19  YearRemodAdd   2919 non-null   object \n",
            " 20  RoofStyle      2919 non-null   object \n",
            " 21  RoofMatl       2919 non-null   object \n",
            " 22  Exterior1st    2919 non-null   object \n",
            " 23  Exterior2nd    2919 non-null   object \n",
            " 24  MasVnrType     2919 non-null   object \n",
            " 25  MasVnrArea     2919 non-null   float64\n",
            " 26  ExterQual      2919 non-null   object \n",
            " 27  ExterCond      2919 non-null   object \n",
            " 28  Foundation     2919 non-null   object \n",
            " 29  BsmtQual       2919 non-null   object \n",
            " 30  BsmtCond       2919 non-null   object \n",
            " 31  BsmtExposure   2919 non-null   object \n",
            " 32  BsmtFinType1   2919 non-null   object \n",
            " 33  BsmtFinSF1     2919 non-null   float64\n",
            " 34  BsmtFinType2   2919 non-null   object \n",
            " 35  BsmtFinSF2     2919 non-null   float64\n",
            " 36  BsmtUnfSF      2919 non-null   float64\n",
            " 37  TotalBsmtSF    2919 non-null   float64\n",
            " 38  Heating        2919 non-null   object \n",
            " 39  HeatingQC      2919 non-null   object \n",
            " 40  CentralAir     2919 non-null   object \n",
            " 41  Electrical     2919 non-null   object \n",
            " 42  1stFlrSF       2919 non-null   int64  \n",
            " 43  2ndFlrSF       2919 non-null   int64  \n",
            " 44  LowQualFinSF   2919 non-null   int64  \n",
            " 45  GrLivArea      2919 non-null   int64  \n",
            " 46  BsmtFullBath   2919 non-null   object \n",
            " 47  BsmtHalfBath   2919 non-null   object \n",
            " 48  FullBath       2919 non-null   object \n",
            " 49  HalfBath       2919 non-null   object \n",
            " 50  BedroomAbvGr   2919 non-null   object \n",
            " 51  KitchenAbvGr   2919 non-null   object \n",
            " 52  KitchenQual    2919 non-null   object \n",
            " 53  TotRmsAbvGrd   2919 non-null   object \n",
            " 54  Functional     2919 non-null   object \n",
            " 55  Fireplaces     2919 non-null   object \n",
            " 56  FireplaceQu    2919 non-null   object \n",
            " 57  GarageType     2919 non-null   object \n",
            " 58  GarageYrBlt    2919 non-null   object \n",
            " 59  GarageFinish   2919 non-null   object \n",
            " 60  GarageCars     2919 non-null   object \n",
            " 61  GarageArea     2919 non-null   float64\n",
            " 62  GarageQual     2919 non-null   object \n",
            " 63  GarageCond     2919 non-null   object \n",
            " 64  PavedDrive     2919 non-null   object \n",
            " 65  WoodDeckSF     2919 non-null   int64  \n",
            " 66  OpenPorchSF    2919 non-null   int64  \n",
            " 67  EnclosedPorch  2919 non-null   int64  \n",
            " 68  3SsnPorch      2919 non-null   int64  \n",
            " 69  ScreenPorch    2919 non-null   int64  \n",
            " 70  PoolArea       2919 non-null   int64  \n",
            " 71  PoolQC         2919 non-null   object \n",
            " 72  Fence          2919 non-null   object \n",
            " 73  MiscFeature    2919 non-null   object \n",
            " 74  MiscVal        2919 non-null   int64  \n",
            " 75  MoSold         2919 non-null   object \n",
            " 76  YrSold         2919 non-null   object \n",
            " 77  SaleType       2919 non-null   object \n",
            " 78  SaleCondition  2919 non-null   object \n",
            " 79  Bathrooms      2919 non-null   object \n",
            " 80  BsmtBathrooms  2919 non-null   object \n",
            " 81  TotalPorchAr   2919 non-null   int64  \n",
            "dtypes: float64(7), int64(13), object(62)\n",
            "memory usage: 1.8+ MB\n"
          ]
        }
      ]
    },
    {
      "cell_type": "markdown",
      "metadata": {
        "id": "cmfxMMFn9H_x"
      },
      "source": [
        "Checking the correlation between numeric columns and target variable"
      ]
    },
    {
      "cell_type": "code",
      "metadata": {
        "colab": {
          "base_uri": "https://localhost:8080/"
        },
        "id": "xAvqMgEV9Blf",
        "outputId": "03ccba1e-7fb4-4478-9b48-4f05b92da9f7"
      },
      "source": [
        "train_df.corr()['SalePrice'][:].sort_values(ascending=False)"
      ],
      "execution_count": null,
      "outputs": [
        {
          "output_type": "execute_result",
          "data": {
            "text/plain": [
              "SalePrice        1.000000\n",
              "GrLivArea        0.708624\n",
              "GarageArea       0.623431\n",
              "TotalBsmtSF      0.612166\n",
              "1stFlrSF         0.605852\n",
              "MasVnrArea       0.473461\n",
              "TotalPorchAr     0.390993\n",
              "BsmtFinSF1       0.386420\n",
              "LotFrontage      0.334771\n",
              "WoodDeckSF       0.324413\n",
              "2ndFlrSF         0.319334\n",
              "OpenPorchSF      0.315856\n",
              "LotArea          0.263843\n",
              "BsmtUnfSF        0.214198\n",
              "ScreenPorch      0.111447\n",
              "PoolArea         0.092404\n",
              "3SsnPorch        0.044584\n",
              "BsmtFinSF2      -0.011378\n",
              "MiscVal         -0.021190\n",
              "LowQualFinSF    -0.025606\n",
              "EnclosedPorch   -0.128578\n",
              "Name: SalePrice, dtype: float64"
            ]
          },
          "metadata": {},
          "execution_count": 7
        }
      ]
    },
    {
      "cell_type": "markdown",
      "metadata": {
        "id": "aMqYHgNR9OZc"
      },
      "source": [
        "Based on EDA we found that some of the categorical values does not have much impact on the target variable, so we are dropping those columns along with the numeric columns that have less correlation with the target variable."
      ]
    },
    {
      "cell_type": "code",
      "metadata": {
        "id": "FKhcvSBpOqE9"
      },
      "source": [
        "df_all['Has2ndFlr'] = df_all['2ndFlrSF'].apply(lambda x: 1 if x > 0 else 0)"
      ],
      "execution_count": null,
      "outputs": []
    },
    {
      "cell_type": "code",
      "metadata": {
        "id": "eo01KNhf9LRt"
      },
      "source": [
        "cols_to_drop = [\n",
        "        'BsmtFinSF1', \n",
        "        'BsmtFinSF2', \n",
        "        'BsmtUnfSF',\n",
        "        '1stFlrSF', \n",
        "        '2ndFlrSF', \n",
        "        'LowQualFinSF', \n",
        "        'BsmtFullBath', \n",
        "        'BsmtHalfBath', \n",
        "        'FullBath', \n",
        "        'HalfBath', \n",
        "        'WoodDeckSF', \n",
        "        'OpenPorchSF', \n",
        "        'EnclosedPorch', \n",
        "        '3SsnPorch', \n",
        "        'ScreenPorch',\n",
        "        'MiscVal',\n",
        "        'PoolArea',\n",
        "        'LotArea',\n",
        "        'WoodDeckSF',\n",
        "        'Heating'\n",
        "    ]"
      ],
      "execution_count": null,
      "outputs": []
    },
    {
      "cell_type": "code",
      "metadata": {
        "id": "icM31o5PieW5"
      },
      "source": [
        "df_new = df_all.drop(cols_to_drop, axis=1)"
      ],
      "execution_count": null,
      "outputs": []
    },
    {
      "cell_type": "code",
      "metadata": {
        "colab": {
          "base_uri": "https://localhost:8080/"
        },
        "id": "AfD052Or-ADy",
        "outputId": "572bab3f-b1e1-4ec4-a76e-3ea937bae411"
      },
      "source": [
        "df_new.shape"
      ],
      "execution_count": null,
      "outputs": [
        {
          "output_type": "execute_result",
          "data": {
            "text/plain": [
              "(2919, 64)"
            ]
          },
          "metadata": {},
          "execution_count": 11
        }
      ]
    },
    {
      "cell_type": "markdown",
      "metadata": {
        "id": "RCzzOhL0eFBJ"
      },
      "source": [
        "Finding the columns that are skewed"
      ]
    },
    {
      "cell_type": "code",
      "metadata": {
        "colab": {
          "base_uri": "https://localhost:8080/",
          "height": 269
        },
        "id": "HnWD28xG-BMa",
        "outputId": "79ba5fef-89dc-4c07-f88c-5a0610d2ea8c"
      },
      "source": [
        "def find_skew(dataset, show=True, col_names=False):\n",
        "  df_skew = pd.DataFrame(dataset.select_dtypes(np.number).columns, columns=['Feature'])\n",
        "  df_skew['Skew'] = df_skew['Feature'].apply(lambda feature: scipy.stats.skew(dataset[feature]))\n",
        "  df_skew['Absolute Skew'] = df_skew['Skew'].apply(abs)\n",
        "  df_skew['Skewed'] = df_skew['Absolute Skew'].apply(lambda x: True if x >= 0.5 else False)\n",
        "\n",
        "  if show:\n",
        "    from IPython.display import display\n",
        "    display(df_skew)\n",
        "\n",
        "  if col_names:\n",
        "    return df_skew[df_skew['Absolute Skew'] >= 0.5]['Feature'].values\n",
        "\n",
        "find_skew(df_new)"
      ],
      "execution_count": null,
      "outputs": [
        {
          "output_type": "display_data",
          "data": {
            "text/html": [
              "<div>\n",
              "<style scoped>\n",
              "    .dataframe tbody tr th:only-of-type {\n",
              "        vertical-align: middle;\n",
              "    }\n",
              "\n",
              "    .dataframe tbody tr th {\n",
              "        vertical-align: top;\n",
              "    }\n",
              "\n",
              "    .dataframe thead th {\n",
              "        text-align: right;\n",
              "    }\n",
              "</style>\n",
              "<table border=\"1\" class=\"dataframe\">\n",
              "  <thead>\n",
              "    <tr style=\"text-align: right;\">\n",
              "      <th></th>\n",
              "      <th>Feature</th>\n",
              "      <th>Skew</th>\n",
              "      <th>Absolute Skew</th>\n",
              "      <th>Skewed</th>\n",
              "    </tr>\n",
              "  </thead>\n",
              "  <tbody>\n",
              "    <tr>\n",
              "      <th>0</th>\n",
              "      <td>LotFrontage</td>\n",
              "      <td>1.672470</td>\n",
              "      <td>1.672470</td>\n",
              "      <td>True</td>\n",
              "    </tr>\n",
              "    <tr>\n",
              "      <th>1</th>\n",
              "      <td>MasVnrArea</td>\n",
              "      <td>2.624724</td>\n",
              "      <td>2.624724</td>\n",
              "      <td>True</td>\n",
              "    </tr>\n",
              "    <tr>\n",
              "      <th>2</th>\n",
              "      <td>TotalBsmtSF</td>\n",
              "      <td>1.141352</td>\n",
              "      <td>1.141352</td>\n",
              "      <td>True</td>\n",
              "    </tr>\n",
              "    <tr>\n",
              "      <th>3</th>\n",
              "      <td>GrLivArea</td>\n",
              "      <td>1.269358</td>\n",
              "      <td>1.269358</td>\n",
              "      <td>True</td>\n",
              "    </tr>\n",
              "    <tr>\n",
              "      <th>4</th>\n",
              "      <td>GarageArea</td>\n",
              "      <td>0.236857</td>\n",
              "      <td>0.236857</td>\n",
              "      <td>False</td>\n",
              "    </tr>\n",
              "    <tr>\n",
              "      <th>5</th>\n",
              "      <td>TotalPorchAr</td>\n",
              "      <td>1.376649</td>\n",
              "      <td>1.376649</td>\n",
              "      <td>True</td>\n",
              "    </tr>\n",
              "    <tr>\n",
              "      <th>6</th>\n",
              "      <td>Has2ndFlr</td>\n",
              "      <td>0.288675</td>\n",
              "      <td>0.288675</td>\n",
              "      <td>False</td>\n",
              "    </tr>\n",
              "  </tbody>\n",
              "</table>\n",
              "</div>"
            ],
            "text/plain": [
              "        Feature      Skew  Absolute Skew  Skewed\n",
              "0   LotFrontage  1.672470       1.672470    True\n",
              "1    MasVnrArea  2.624724       2.624724    True\n",
              "2   TotalBsmtSF  1.141352       1.141352    True\n",
              "3     GrLivArea  1.269358       1.269358    True\n",
              "4    GarageArea  0.236857       0.236857   False\n",
              "5  TotalPorchAr  1.376649       1.376649    True\n",
              "6     Has2ndFlr  0.288675       0.288675   False"
            ]
          },
          "metadata": {}
        }
      ]
    },
    {
      "cell_type": "code",
      "metadata": {
        "colab": {
          "base_uri": "https://localhost:8080/",
          "height": 269
        },
        "id": "u-jwOFvp-CtP",
        "outputId": "ff38c64f-4798-4231-c06d-ed68e0676199"
      },
      "source": [
        "# using boxcox transformations to reduce the skewness\n",
        "skewed_cols = find_skew(df_new, show=False, col_names=True)\n",
        "\n",
        "for col in skewed_cols:\n",
        "  df_new[col] = boxcox1p(df_new[col], boxcox_normmax(df_new[col] + 1))\n",
        "\n",
        "find_skew(df_new)"
      ],
      "execution_count": null,
      "outputs": [
        {
          "output_type": "display_data",
          "data": {
            "text/html": [
              "<div>\n",
              "<style scoped>\n",
              "    .dataframe tbody tr th:only-of-type {\n",
              "        vertical-align: middle;\n",
              "    }\n",
              "\n",
              "    .dataframe tbody tr th {\n",
              "        vertical-align: top;\n",
              "    }\n",
              "\n",
              "    .dataframe thead th {\n",
              "        text-align: right;\n",
              "    }\n",
              "</style>\n",
              "<table border=\"1\" class=\"dataframe\">\n",
              "  <thead>\n",
              "    <tr style=\"text-align: right;\">\n",
              "      <th></th>\n",
              "      <th>Feature</th>\n",
              "      <th>Skew</th>\n",
              "      <th>Absolute Skew</th>\n",
              "      <th>Skewed</th>\n",
              "    </tr>\n",
              "  </thead>\n",
              "  <tbody>\n",
              "    <tr>\n",
              "      <th>0</th>\n",
              "      <td>LotFrontage</td>\n",
              "      <td>0.051218</td>\n",
              "      <td>0.051218</td>\n",
              "      <td>False</td>\n",
              "    </tr>\n",
              "    <tr>\n",
              "      <th>1</th>\n",
              "      <td>MasVnrArea</td>\n",
              "      <td>0.982363</td>\n",
              "      <td>0.982363</td>\n",
              "      <td>True</td>\n",
              "    </tr>\n",
              "    <tr>\n",
              "      <th>2</th>\n",
              "      <td>TotalBsmtSF</td>\n",
              "      <td>0.369317</td>\n",
              "      <td>0.369317</td>\n",
              "      <td>False</td>\n",
              "    </tr>\n",
              "    <tr>\n",
              "      <th>3</th>\n",
              "      <td>GrLivArea</td>\n",
              "      <td>0.004848</td>\n",
              "      <td>0.004848</td>\n",
              "      <td>False</td>\n",
              "    </tr>\n",
              "    <tr>\n",
              "      <th>4</th>\n",
              "      <td>GarageArea</td>\n",
              "      <td>0.236857</td>\n",
              "      <td>0.236857</td>\n",
              "      <td>False</td>\n",
              "    </tr>\n",
              "    <tr>\n",
              "      <th>5</th>\n",
              "      <td>TotalPorchAr</td>\n",
              "      <td>0.186593</td>\n",
              "      <td>0.186593</td>\n",
              "      <td>False</td>\n",
              "    </tr>\n",
              "    <tr>\n",
              "      <th>6</th>\n",
              "      <td>Has2ndFlr</td>\n",
              "      <td>0.288675</td>\n",
              "      <td>0.288675</td>\n",
              "      <td>False</td>\n",
              "    </tr>\n",
              "  </tbody>\n",
              "</table>\n",
              "</div>"
            ],
            "text/plain": [
              "        Feature      Skew  Absolute Skew  Skewed\n",
              "0   LotFrontage  0.051218       0.051218   False\n",
              "1    MasVnrArea  0.982363       0.982363    True\n",
              "2   TotalBsmtSF  0.369317       0.369317   False\n",
              "3     GrLivArea  0.004848       0.004848   False\n",
              "4    GarageArea  0.236857       0.236857   False\n",
              "5  TotalPorchAr  0.186593       0.186593   False\n",
              "6     Has2ndFlr  0.288675       0.288675   False"
            ]
          },
          "metadata": {}
        }
      ]
    },
    {
      "cell_type": "markdown",
      "metadata": {
        "id": "B5HTCSPMeVmd"
      },
      "source": [
        "We can observe that the skewness is reduced for all the columns"
      ]
    },
    {
      "cell_type": "code",
      "metadata": {
        "id": "UYLliLJp-D-J"
      },
      "source": [
        "cols_not_to_be_encoded = ['YearBuilt', 'YearRemodAdd', 'GarageCars', 'BedroomAbvGr', 'KitchenAbvGr', 'TotRmsAbvGrd', 'Fireplaces', 'GarageYrBlt', 'MoSold', 'YrSold', 'Bathrooms', 'BsmtBathrooms']\n",
        "\n",
        "df_new[cols_not_to_be_encoded] = df_new[cols_not_to_be_encoded].astype('int64')"
      ],
      "execution_count": null,
      "outputs": []
    },
    {
      "cell_type": "code",
      "metadata": {
        "id": "17H8GUROGdMk"
      },
      "source": [
        "df_new = pd.get_dummies(df_new, drop_first=True)"
      ],
      "execution_count": null,
      "outputs": []
    },
    {
      "cell_type": "code",
      "metadata": {
        "colab": {
          "base_uri": "https://localhost:8080/"
        },
        "id": "HDa9LTh8-r6U",
        "outputId": "8db35a73-97dc-4a50-cdd6-9ad139b3c6fc"
      },
      "source": [
        "df_new.shape"
      ],
      "execution_count": null,
      "outputs": [
        {
          "output_type": "execute_result",
          "data": {
            "text/plain": [
              "(2919, 269)"
            ]
          },
          "metadata": {},
          "execution_count": 16
        }
      ]
    },
    {
      "cell_type": "markdown",
      "metadata": {
        "id": "JYWC612MgKZ8"
      },
      "source": [
        "### Target transformation"
      ]
    },
    {
      "cell_type": "markdown",
      "metadata": {
        "id": "GexXmtc2gOqE"
      },
      "source": [
        "It is important is to check whether the target variable is normally distributed or not. If it's not then we need to perform some transformations so as to get it closer to normal distribution."
      ]
    },
    {
      "cell_type": "code",
      "metadata": {
        "id": "wz4O7hqZ-2Vt"
      },
      "source": [
        "target = train_df['SalePrice']\n",
        "log_target = np.log(target)"
      ],
      "execution_count": null,
      "outputs": []
    },
    {
      "cell_type": "code",
      "metadata": {
        "colab": {
          "base_uri": "https://localhost:8080/",
          "height": 499
        },
        "id": "APxN_UJ6-76_",
        "outputId": "318c79bd-ec38-4557-e2ff-d8dc0046fa72"
      },
      "source": [
        "plt.figure(figsize=(16, 6))\n",
        "\n",
        "plt.subplot(1, 2, 1)\n",
        "sns.distplot(target, fit=scipy.stats.norm)\n",
        "plt.xlabel('SalePrice', fontsize=14)\n",
        "plt.ylabel('Density', fontsize=14)\n",
        "plt.title('Without Log Transform', fontsize=16)\n",
        "\n",
        "plt.subplot(1, 2, 2)\n",
        "sns.distplot(log_target, fit=scipy.stats.norm)\n",
        "plt.xlabel('Log SalePrice', fontsize=14)\n",
        "plt.ylabel('Density', fontsize=14)\n",
        "plt.title('With Log Transform', fontsize=16)\n",
        "plt.subplots_adjust(wspace=.4)"
      ],
      "execution_count": null,
      "outputs": [
        {
          "output_type": "stream",
          "name": "stderr",
          "text": [
            "/usr/local/lib/python3.7/dist-packages/seaborn/distributions.py:2619: FutureWarning: `distplot` is a deprecated function and will be removed in a future version. Please adapt your code to use either `displot` (a figure-level function with similar flexibility) or `histplot` (an axes-level function for histograms).\n",
            "  warnings.warn(msg, FutureWarning)\n",
            "/usr/local/lib/python3.7/dist-packages/seaborn/distributions.py:2619: FutureWarning: `distplot` is a deprecated function and will be removed in a future version. Please adapt your code to use either `displot` (a figure-level function with similar flexibility) or `histplot` (an axes-level function for histograms).\n",
            "  warnings.warn(msg, FutureWarning)\n"
          ]
        },
        {
          "output_type": "display_data",
          "data": {
            "image/png": "[encoded data removed]",
            "text/plain": [
              "<Figure size 1152x432 with 2 Axes>"
            ]
          },
          "metadata": {
            "needs_background": "light"
          }
        }
      ]
    },
    {
      "cell_type": "markdown",
      "metadata": {
        "id": "vlMVj4c-gbHe"
      },
      "source": [
        "We can observe that the traget variable with log tranform is closer to the normal distribution. So, we will use the transformed target variable in the future."
      ]
    },
    {
      "cell_type": "markdown",
      "metadata": {
        "id": "d416gxnng3Kf"
      },
      "source": [
        "### Saving data"
      ]
    },
    {
      "cell_type": "code",
      "metadata": {
        "id": "sTfDXLVM-8zb"
      },
      "source": [
        "df_train_engineered = df_new[:1460]\n",
        "df_test_engineered = df_new[1460:]"
      ],
      "execution_count": null,
      "outputs": []
    },
    {
      "cell_type": "code",
      "metadata": {
        "id": "muryKDop_ARy"
      },
      "source": [
        "# pickle preprocessed train data\n",
        "df_train_engineered.to_pickle('/content/drive/MyDrive/Project/X_train.pkl')\n",
        "\n",
        "# pickle preprocessed test data\n",
        "df_test_engineered.to_pickle('/content/drive/MyDrive/Project/X_test.pkl')\n",
        "\n",
        "log_target.to_pickle('/content/drive/MyDrive/Project/y_train.pkl')"
      ],
      "execution_count": null,
      "outputs": []
    }
  ]
}